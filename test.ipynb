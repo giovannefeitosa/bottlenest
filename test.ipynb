{
 "cells": [
  {
   "cell_type": "code",
   "execution_count": 3,
   "metadata": {},
   "outputs": [
    {
     "ename": "Exception",
     "evalue": "Singleton class must have an __init__ method with 1 argument, got 3",
     "output_type": "error",
     "traceback": [
      "\u001b[0;31m---------------------------------------------------------------------------\u001b[0m",
      "\u001b[0;31mException\u001b[0m                                 Traceback (most recent call last)",
      "Cell \u001b[0;32mIn[3], line 35\u001b[0m\n\u001b[1;32m     32\u001b[0m     \u001b[39mdef\u001b[39;00m \u001b[39m__str__\u001b[39m(\u001b[39mself\u001b[39m):\n\u001b[1;32m     33\u001b[0m         \u001b[39mreturn\u001b[39;00m \u001b[39mf\u001b[39m\u001b[39m\"\u001b[39m\u001b[39m{\u001b[39;00m\u001b[39mself\u001b[39m\u001b[39m.\u001b[39mname\u001b[39m}\u001b[39;00m\u001b[39m\"\u001b[39m\n\u001b[0;32m---> 35\u001b[0m a \u001b[39m=\u001b[39m Teste()\n\u001b[1;32m     36\u001b[0m b \u001b[39m=\u001b[39m Teste()\n\u001b[1;32m     38\u001b[0m \u001b[39massert\u001b[39;00m a\u001b[39m.\u001b[39mname \u001b[39mis\u001b[39;00m \u001b[39mNone\u001b[39;00m, \u001b[39mf\u001b[39m\u001b[39m\"\u001b[39m\u001b[39ma.name should be None, got this instead: \u001b[39m\u001b[39m{\u001b[39;00ma\u001b[39m.\u001b[39mgetName()\u001b[39m}\u001b[39;00m\u001b[39m\"\u001b[39m\n",
      "Cell \u001b[0;32mIn[3], line 15\u001b[0m, in \u001b[0;36mSingleton.__new__\u001b[0;34m(cls, *args, **kwargs)\u001b[0m\n\u001b[1;32m     13\u001b[0m         \u001b[39mcls\u001b[39m\u001b[39m.\u001b[39m_instance \u001b[39m=\u001b[39m \u001b[39msuper\u001b[39m(Singleton, \u001b[39mcls\u001b[39m)\u001b[39m.\u001b[39m\u001b[39m__new__\u001b[39m(\u001b[39mcls\u001b[39m, \u001b[39m*\u001b[39margs, \u001b[39m*\u001b[39m\u001b[39m*\u001b[39mkwargs)\n\u001b[1;32m     14\u001b[0m     \u001b[39melse\u001b[39;00m:\n\u001b[0;32m---> 15\u001b[0m         \u001b[39mraise\u001b[39;00m \u001b[39mException\u001b[39;00m(\u001b[39mf\u001b[39m\u001b[39m\"\u001b[39m\u001b[39mSingleton class must have an __init__ method with 1 argument, got \u001b[39m\u001b[39m{\u001b[39;00mnargs\u001b[39m}\u001b[39;00m\u001b[39m\"\u001b[39m)\n\u001b[1;32m     16\u001b[0m     \u001b[39m# cls._instance = super(Singleton, cls).__new__(cls)\u001b[39;00m\n\u001b[1;32m     17\u001b[0m \u001b[39mreturn\u001b[39;00m \u001b[39mcls\u001b[39m\u001b[39m.\u001b[39m_instance\n",
      "\u001b[0;31mException\u001b[0m: Singleton class must have an __init__ method with 1 argument, got 3"
     ]
    }
   ],
   "source": [
    "from inspect import signature\n",
    "from abc import ABC, abstractmethod, ABCMeta, abstractproperty\n",
    "\n",
    "\n",
    "class Singleton(ABC):\n",
    "    _instance = None\n",
    "\n",
    "    def __new__(cls, *args, **kwargs):\n",
    "        if cls._instance is None:\n",
    "            # number of params in init\n",
    "            nargs = len(signature(cls.__init__).parameters)\n",
    "            if nargs == 1 or nargs == 3:\n",
    "                cls._instance = super(Singleton, cls).__new__(cls, *args, **kwargs)\n",
    "            else:\n",
    "                raise Exception(f\"Singleton class must have an __init__ method with 1 argument, got {nargs}\")\n",
    "            # cls._instance = super(Singleton, cls).__new__(cls)\n",
    "        return cls._instance\n",
    "\n",
    "class Teste(Singleton):\n",
    "    #def __init__(self):\n",
    "    #    self.name = \"A\"\n",
    "\n",
    "    def setName(self, name):\n",
    "        self.name = name\n",
    "    \n",
    "    def getName(self):\n",
    "        return self.name\n",
    "\n",
    "    def __repr__(self):\n",
    "        return f\"{self.name}\"\n",
    "    \n",
    "    def __str__(self):\n",
    "        return f\"{self.name}\"\n",
    "\n",
    "a = Teste()\n",
    "b = Teste()\n",
    "\n",
    "assert a.name is None, f\"a.name should be None, got this instead: {a.getName()}\"\n",
    "\n",
    "a.setName(\"A\")\n",
    "b.setName(\"B\")\n",
    "\n",
    "assert a.name == \"B\", \"a.name should be B\"\n",
    "\n",
    "c = Teste()\n",
    "assert c.name == \"B\", \"c.name should be B\"\n",
    "\n",
    "c.setName(\"C\")\n",
    "assert a.name == \"C\", \"a.name should be C\"\n"
   ]
  },
  {
   "cell_type": "code",
   "execution_count": null,
   "metadata": {},
   "outputs": [
    {
     "name": "stdout",
     "output_type": "stream",
     "text": [
      "Teste __init__\n",
      "Teste __init__\n"
     ]
    },
    {
     "data": {
      "text/plain": [
       "(B, B)"
      ]
     },
     "execution_count": 3,
     "metadata": {},
     "output_type": "execute_result"
    }
   ],
   "source": []
  }
 ],
 "metadata": {
  "kernelspec": {
   "display_name": "Python 3",
   "language": "python",
   "name": "python3"
  },
  "language_info": {
   "codemirror_mode": {
    "name": "ipython",
    "version": 3
   },
   "file_extension": ".py",
   "mimetype": "text/x-python",
   "name": "python",
   "nbconvert_exporter": "python",
   "pygments_lexer": "ipython3",
   "version": "3.10.6"
  },
  "orig_nbformat": 4
 },
 "nbformat": 4,
 "nbformat_minor": 2
}

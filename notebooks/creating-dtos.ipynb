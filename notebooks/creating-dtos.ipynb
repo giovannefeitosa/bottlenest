{
 "cells": [
  {
   "attachments": {},
   "cell_type": "markdown",
   "metadata": {},
   "source": [
    "# Creating DTOs\n",
    "\n",
    "DTOs are useful for managing data in a structured way. They are used in the following ways:\n",
    "\n",
    "* To define the data structure of a message\n",
    "* To ensure the data structure is valid\n",
    "* To provide a convenient way to access the data\n",
    "* Serialize and deserialize the data\n",
    "* To provide a convenient way to convert the data to and from other formats\n",
    "\n",
    "## Creating a DTO\n",
    "\n",
    "DTOs are created by using the `DTO` decorator. The `DTO` decorator returns a subclass of `NamedTuple` and therefore behaves like a dictionary. The `DTO` class provides a number of convenience methods for accessing and manipulating the data.\n"
   ]
  },
  {
   "cell_type": "code",
   "execution_count": 1,
   "metadata": {},
   "outputs": [],
   "source": [
    "from __future__ import annotations\n",
    "from typing import Type\n",
    "from pydantic import BaseModel\n",
    "\n",
    "def DTO() -> Type:\n",
    "    def decorator(cls: Type) -> Type:\n",
    "        class NewClass:\n",
    "            def __init__(self, *args, **kwargs):\n",
    "                for k, v in zip(cls.__annotations__.keys(), args):\n",
    "                    setattr(self, k, v)\n",
    "                for k, v in kwargs.items():\n",
    "                    setattr(self, k, v)\n",
    "            \n",
    "            def __repr__(self):\n",
    "                attrs = [f\"{k}={getattr(self, k)}\" for k in vars(self)]\n",
    "                return f\"{cls.__name__}({', '.join(attrs)})\"\n",
    "        return NewClass\n",
    "    \n",
    "    return decorator\n",
    "\n",
    "def IsRequired():\n",
    "    def decorator(variable):\n",
    "        if variable is None:\n",
    "            raise ValueError(\"Required variable is None\")\n",
    "        return variable"
   ]
  },
  {
   "cell_type": "code",
   "execution_count": 4,
   "metadata": {},
   "outputs": [
    {
     "data": {
      "text/plain": [
       "('Mittens', 'asd')"
      ]
     },
     "execution_count": 4,
     "metadata": {},
     "output_type": "execute_result"
    }
   ],
   "source": [
    "@DTO()\n",
    "class CatInterface:\n",
    "    name: str\n",
    "    age: int\n",
    "    breed: str\n",
    "\n",
    "# print(CatInterface('Mittens', 3, \"asd\"))\n",
    "# print(CatInterface(name='Mittens', age=3, breed='Siamese'))\n",
    "# print(CatInterface(name=\"Felix\", age=3, breed=\"Tabby\"))\n",
    "\n",
    "person1 = CatInterface('Mittens', \"asd\")\n",
    "person1.name, person1.age"
   ]
  },
  {
   "cell_type": "code",
   "execution_count": 7,
   "metadata": {},
   "outputs": [
    {
     "ename": "ValidationError",
     "evalue": "1 validation error for User\nfriends -> 0\n  value is not a valid integer (type=type_error.integer)",
     "output_type": "error",
     "traceback": [
      "\u001b[0;31m---------------------------------------------------------------------------\u001b[0m",
      "\u001b[0;31mValidationError\u001b[0m                           Traceback (most recent call last)",
      "Cell \u001b[0;32mIn[7], line 12\u001b[0m\n\u001b[1;32m      9\u001b[0m     signup_ts: Optional[datetime] \u001b[39m=\u001b[39m \u001b[39mNone\u001b[39;00m\n\u001b[1;32m     10\u001b[0m     friends: List[\u001b[39mint\u001b[39m] \u001b[39m=\u001b[39m []\n\u001b[0;32m---> 12\u001b[0m User(\u001b[39mid\u001b[39;49m\u001b[39m=\u001b[39;49m\u001b[39m1\u001b[39;49m, name\u001b[39m=\u001b[39;49m\u001b[39m'\u001b[39;49m\u001b[39mJohn Doe\u001b[39;49m\u001b[39m'\u001b[39;49m, signup_ts\u001b[39m=\u001b[39;49mdatetime(\u001b[39m2017\u001b[39;49m, \u001b[39m6\u001b[39;49m, \u001b[39m1\u001b[39;49m, \u001b[39m12\u001b[39;49m, \u001b[39m8\u001b[39;49m), friends\u001b[39m=\u001b[39;49m[\u001b[39m\"\u001b[39;49m\u001b[39ma\u001b[39;49m\u001b[39m\"\u001b[39;49m, \u001b[39m3\u001b[39;49m, \u001b[39m4\u001b[39;49m])\n",
      "File \u001b[0;32m~/.local/lib/python3.10/site-packages/pydantic/main.py:341\u001b[0m, in \u001b[0;36mpydantic.main.BaseModel.__init__\u001b[0;34m()\u001b[0m\n",
      "\u001b[0;31mValidationError\u001b[0m: 1 validation error for User\nfriends -> 0\n  value is not a valid integer (type=type_error.integer)"
     ]
    }
   ],
   "source": [
    "from datetime import datetime\n",
    "from typing import List, Optional\n",
    "from pydantic import BaseModel\n",
    "\n",
    "\n",
    "class User(BaseModel):\n",
    "    id: int\n",
    "    name = 'John Doe'\n",
    "    signup_ts: Optional[datetime] = None\n",
    "    friends: List[int] = []\n",
    "\n",
    "User(id=1, name='John Doe', signup_ts=datetime(2017, 6, 1, 12, 8), friends=[\"a\", 3, 4])"
   ]
  }
 ],
 "metadata": {
  "kernelspec": {
   "display_name": "Python 3",
   "language": "python",
   "name": "python3"
  },
  "language_info": {
   "codemirror_mode": {
    "name": "ipython",
    "version": 3
   },
   "file_extension": ".py",
   "mimetype": "text/x-python",
   "name": "python",
   "nbconvert_exporter": "python",
   "pygments_lexer": "ipython3",
   "version": "3.10.6"
  },
  "orig_nbformat": 4
 },
 "nbformat": 4,
 "nbformat_minor": 2
}

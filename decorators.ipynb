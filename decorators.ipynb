{
 "cells": [
  {
   "cell_type": "code",
   "execution_count": 3,
   "metadata": {},
   "outputs": [
    {
     "name": "stdout",
     "output_type": "stream",
     "text": [
      "John Smith\n"
     ]
    }
   ],
   "source": [
    "def add_name_property(func):\n",
    "    def wrapper(self):\n",
    "        if not hasattr(self, 'name'):\n",
    "            self.name = \"Unknown\"\n",
    "        return func(self)\n",
    "    return wrapper\n",
    "\n",
    "class Human:\n",
    "    def __init__(self, props):\n",
    "        self.props = props\n",
    "\n",
    "    @add_name_property\n",
    "    def getName(self):\n",
    "        return self.name\n",
    "        # return self.props.get('name', self.name)\n",
    "\n",
    "person_props = {'age': 30}\n",
    "person = Human(person_props)\n",
    "person.name = 'John Smith'\n",
    "print(person.getName())"
   ]
  },
  {
   "cell_type": "code",
   "execution_count": null,
   "metadata": {},
   "outputs": [],
   "source": []
  }
 ],
 "metadata": {
  "kernelspec": {
   "display_name": "Python 3",
   "language": "python",
   "name": "python3"
  },
  "language_info": {
   "codemirror_mode": {
    "name": "ipython",
    "version": 3
   },
   "file_extension": ".py",
   "mimetype": "text/x-python",
   "name": "python",
   "nbconvert_exporter": "python",
   "pygments_lexer": "ipython3",
   "version": "3.10.6"
  },
  "orig_nbformat": 4
 },
 "nbformat": 4,
 "nbformat_minor": 2
}

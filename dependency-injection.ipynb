{
 "cells": [
  {
   "attachments": {},
   "cell_type": "markdown",
   "metadata": {},
   "source": [
    "# Dependency Injection\n",
    "\n",
    "The goal of this Jupyter Notebook is to learn about how to make a dependency injection in Python.\n",
    "\n",
    "## What is Dependency Injection?\n",
    "\n",
    "Dependency Injection is a software design pattern that allows us to decouple the creation of an object from its use. It is a way to implement the Inversion of Control (IoC) principle.\n",
    "\n",
    "## How should a simple dependency injection look like in python?\n",
    "\n",
    "```python\n",
    "@Controller('cats')\n",
    "class CatsController:\n",
    "    catsService: CatsService\n",
    "```\n",
    "\n",
    "I should be able to inject the CatsService instance in the CatsController automatically without the need for a manual `__init__` method.\n",
    "\n",
    "The injected class should depend on the type of the attribute."
   ]
  },
  {
   "cell_type": "code",
   "execution_count": 119,
   "metadata": {},
   "outputs": [],
   "source": [
    "# POC implementation\n",
    "def Controller(path=None):\n",
    "    def decorator(cls):\n",
    "        return lambda: ControllerClass(cls)\n",
    "    return decorator\n",
    "\n",
    "class ControllerClass:\n",
    "    __name__ = 'ControllerClass'\n",
    "    _providers = {}\n",
    "    def __init__(self, cls):\n",
    "        self.cls = cls\n",
    "        for propName in self.cls.__annotations__.keys():\n",
    "            propType = self.cls.__annotations__[propName].__name__\n",
    "            if propType == 'CatsService':\n",
    "                setattr(self.cls, propName, CatsService())\n",
    "\n",
    "    def __getattr__(self, name):\n",
    "        return getattr(self.cls, name)\n",
    "\n",
    "def Injectable():\n",
    "    def decorator(cls):\n",
    "        cls.__str__ = lambda self: f'Injectable({self.__class__.__name__})'\n",
    "        return cls\n",
    "    return decorator"
   ]
  },
  {
   "cell_type": "code",
   "execution_count": 120,
   "metadata": {},
   "outputs": [
    {
     "name": "stdout",
     "output_type": "stream",
     "text": [
      "Result:  Injectable(CatsService)\n"
     ]
    }
   ],
   "source": [
    "# POC test\n",
    "@Injectable()\n",
    "class CatsService:\n",
    "    pass\n",
    "\n",
    "\n",
    "@Controller('cats')\n",
    "class CatsController:\n",
    "    catsService: CatsService\n",
    "\n",
    "    def __init__(self):\n",
    "        print(\"CatsController init\")\n",
    "\n",
    "print(\"Result: \", CatsController().catsService)"
   ]
  }
 ],
 "metadata": {
  "kernelspec": {
   "display_name": "Python 3",
   "language": "python",
   "name": "python3"
  },
  "language_info": {
   "codemirror_mode": {
    "name": "ipython",
    "version": 3
   },
   "file_extension": ".py",
   "mimetype": "text/x-python",
   "name": "python",
   "nbconvert_exporter": "python",
   "pygments_lexer": "ipython3",
   "version": "3.10.6"
  },
  "orig_nbformat": 4
 },
 "nbformat": 4,
 "nbformat_minor": 2
}

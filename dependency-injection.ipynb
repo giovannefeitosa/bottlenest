{
 "cells": [
  {
   "attachments": {},
   "cell_type": "markdown",
   "metadata": {},
   "source": [
    "# Dependency Injection\n",
    "\n",
    "The goal of this Jupyter Notebook is to learn about how to make a dependency injection in Python.\n",
    "\n",
    "## What is Dependency Injection?\n",
    "\n",
    "Dependency Injection is a software design pattern that allows us to decouple the creation of an object from its use. It is a way to implement the Inversion of Control (IoC) principle.\n",
    "\n",
    "## How should a simple dependency injection look like in python?\n",
    "\n",
    "```python\n",
    "@Controller('cats')\n",
    "class CatsController:\n",
    "    catsService: CatsService\n",
    "```\n",
    "\n",
    "I should be able to inject the CatsService instance in the CatsController automatically without the need for a manual `__init__` method.\n",
    "\n",
    "The injected class should depend on the type of the attribute."
   ]
  },
  {
   "cell_type": "code",
   "execution_count": 88,
   "metadata": {},
   "outputs": [
    {
     "name": "stdout",
     "output_type": "stream",
     "text": [
      "Injectable.inner  () {}\n",
      "InjectableClass <class '__main__.PersonClass'>\n",
      "PersonClass.printName\n"
     ]
    }
   ],
   "source": [
    "def Injectable():\n",
    "    def decorator(cls):\n",
    "        def inner(*args, **kwargs):\n",
    "            print(\"Injectable.inner \", args, kwargs)\n",
    "            return NestProvider(cls)\n",
    "        return inner\n",
    "        # return lambda: NestProvider(cls)\n",
    "    return decorator\n",
    "\n",
    "def Controller(path=None):\n",
    "    def decorator(cls):\n",
    "        # return ControllerClass(cls)\n",
    "        def inner():\n",
    "            return ControllerClass(cls)\n",
    "        return inner\n",
    "    return decorator\n",
    "\n",
    "class NestProvider:\n",
    "    __name__ = 'NestProvider'\n",
    "    # Note: this __providers__ should be automatically generated\n",
    "    # by the module, but for this notebook I will leave it with\n",
    "    # the providers manually\n",
    "    __providers__ = {}\n",
    "\n",
    "    @staticmethod\n",
    "    def provide(name, instance):\n",
    "        NestProvider.__providers__[name] = instance\n",
    "    \n",
    "    def __init__(self, cls):\n",
    "        print(f\"NestProvider {cls}\")\n",
    "        self.cls = cls()\n",
    "\n",
    "    def __getattr__(self, name):\n",
    "        if name in self.__providers__:\n",
    "            return self.__providers__[name]\n",
    "        return getattr(self.cls, name)\n",
    "    \n",
    "    def __call__(self, *args, **kwargs):\n",
    "        return self.cls(self.cls, *args, **kwargs)\n",
    "\n",
    "@Injectable()\n",
    "class PersonClass:\n",
    "    def printName(self):\n",
    "        print('PersonClass.printName')\n",
    "\n",
    "@Injectable()\n",
    "class ControllerClass:\n",
    "    __name__ = 'ControllerClass'\n",
    "\n",
    "@Controller()\n",
    "class PersonController:\n",
    "    pass\n",
    "\n",
    "pessoa = PersonClass()\n",
    "pessoa.printName()\n"
   ]
  },
  {
   "cell_type": "code",
   "execution_count": 89,
   "metadata": {},
   "outputs": [
    {
     "name": "stdout",
     "output_type": "stream",
     "text": [
      "Injectable.inner  () {}\n",
      "InjectableClass <class '__main__.CatsService'>\n",
      "Injectable.inner  (<class '__main__.CatsController'>,) {}\n",
      "InjectableClass <class '__main__.ControllerClass'>\n",
      "Result:  Kitty\n"
     ]
    }
   ],
   "source": [
    "# POC test\n",
    "@Injectable()\n",
    "class CatsService:\n",
    "    def getCatName(self):\n",
    "        return \"Kitty\"\n",
    "\n",
    "\n",
    "@Controller('cats')\n",
    "class CatsController:\n",
    "    catsService: CatsService\n",
    "\n",
    "NestProvider.provide('catsService', CatsService())\n",
    "\n",
    "print(\"Result: \", CatsController().catsService.getCatName())"
   ]
  }
 ],
 "metadata": {
  "kernelspec": {
   "display_name": "Python 3",
   "language": "python",
   "name": "python3"
  },
  "language_info": {
   "codemirror_mode": {
    "name": "ipython",
    "version": 3
   },
   "file_extension": ".py",
   "mimetype": "text/x-python",
   "name": "python",
   "nbconvert_exporter": "python",
   "pygments_lexer": "ipython3",
   "version": "3.10.6"
  },
  "orig_nbformat": 4
 },
 "nbformat": 4,
 "nbformat_minor": 2
}
